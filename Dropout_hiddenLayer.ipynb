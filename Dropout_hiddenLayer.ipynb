{
  "nbformat": 4,
  "nbformat_minor": 0,
  "metadata": {
    "colab": {
      "provenance": []
    },
    "kernelspec": {
      "name": "python3",
      "display_name": "Python 3"
    },
    "language_info": {
      "name": "python"
    }
  },
  "cells": [
    {
      "cell_type": "code",
      "source": [
        "import torch\n",
        "import torch.nn as nn\n",
        "import torch.nn.functional as F\n",
        "from torch.utils.data import Dataset, DataLoader\n",
        "from sklearn.model_selection import train_test_split\n",
        "import numpy as np\n",
        "import pandas as pd\n",
        "import matplotlib.pyplot as plt\n",
        "from sklearn.datasets import fetch_california_housing\n",
        "from sklearn.preprocessing import StandardScaler\n"
      ],
      "metadata": {
        "id": "I24pR1QFckGr"
      },
      "execution_count": 1,
      "outputs": []
    },
    {
      "cell_type": "code",
      "source": [
        "data=fetch_california_housing()\n",
        "x=data.data\n",
        "y=data.target"
      ],
      "metadata": {
        "id": "rBdSFk6OcYHr"
      },
      "execution_count": 2,
      "outputs": []
    },
    {
      "cell_type": "code",
      "source": [
        "scaler = StandardScaler()\n",
        "X_scaled = scaler.fit_transform(x)"
      ],
      "metadata": {
        "id": "gXal1ImRcYFT"
      },
      "execution_count": 3,
      "outputs": []
    },
    {
      "cell_type": "code",
      "source": [
        "xtrain,xtest,ytrain,ytest=train_test_split(X_scaled,y,test_size=0.2)\n"
      ],
      "metadata": {
        "id": "QhN_oh8GcYC7"
      },
      "execution_count": 4,
      "outputs": []
    },
    {
      "cell_type": "code",
      "source": [
        "xtrain = xtrain.astype('float32')\n",
        "xtest = xtest.astype('float32')\n",
        "ytrain = ytrain.astype('float32')\n",
        "ytest = ytest.astype('float32')"
      ],
      "metadata": {
        "id": "Mh5w8GvPcX_T"
      },
      "execution_count": 5,
      "outputs": []
    },
    {
      "cell_type": "code",
      "source": [
        "xtrain = torch.FloatTensor(xtrain)\n",
        "xtest = torch.FloatTensor(xtest)\n",
        "ytrain = torch.FloatTensor(ytrain)\n",
        "ytest = torch.FloatTensor(ytest)"
      ],
      "metadata": {
        "id": "cYm5Bz_pcX60"
      },
      "execution_count": 6,
      "outputs": []
    },
    {
      "cell_type": "code",
      "source": [
        "class Model(nn.Module):\n",
        "    def __init__(self,input_features=8,hidden_layer1=25,hidden_layer2=30,output_features=1):\n",
        "        super().__init__()\n",
        "        self.dropout = nn.Dropout()\n",
        "        self.fc1=nn.Linear(input_features,hidden_layer1)\n",
        "        self.fc2=nn.Linear(hidden_layer1,hidden_layer2)\n",
        "        self.out=nn.Linear(hidden_layer2,output_features)\n",
        "\n",
        "    def forward(self, x):\n",
        "\n",
        "        x = F.relu(self.fc1(x))\n",
        "        x = self.dropout(x)\n",
        "        x = F.relu(self.fc2(x))\n",
        "        x = self.dropout(x)\n",
        "        x = self.out(x)\n",
        "        return x"
      ],
      "metadata": {
        "id": "cQW0xPNmcX2j"
      },
      "execution_count": 7,
      "outputs": []
    },
    {
      "cell_type": "code",
      "source": [
        "model=Model()"
      ],
      "metadata": {
        "id": "f7SqNRBccXyT"
      },
      "execution_count": 8,
      "outputs": []
    },
    {
      "cell_type": "code",
      "source": [
        "criterion = nn.MSELoss()\n",
        "optimizer = torch.optim.Adam(model.parameters(), lr=0.01)\n",
        "epochs = 100\n",
        "losses = []\n"
      ],
      "metadata": {
        "id": "Jx31XY3scXv7"
      },
      "execution_count": 9,
      "outputs": []
    },
    {
      "cell_type": "code",
      "source": [
        "for i in range(epochs):\n",
        "\n",
        "    y_pred = model.forward(xtrain)\n",
        "    loss= criterion(y_pred, ytrain)\n",
        "    losses.append(loss.detach())\n",
        "    print(f'epoch: {i:2}  loss: {loss.item():10.8f}')\n",
        "    optimizer.zero_grad()\n",
        "    loss.backward()\n",
        "    optimizer.step()"
      ],
      "metadata": {
        "id": "da4E9qg-cXub"
      },
      "execution_count": null,
      "outputs": []
    },
    {
      "cell_type": "code",
      "source": [
        "plt.plot(range(epochs), losses)\n",
        "plt.ylabel('Loss')\n",
        "plt.xlabel('epoch')"
      ],
      "metadata": {
        "id": "Q5Y_xV2wcXr-"
      },
      "execution_count": null,
      "outputs": []
    },
    {
      "cell_type": "code",
      "source": [
        "preds = []\n",
        "with torch.no_grad():\n",
        "    for val in xtest:\n",
        "        y_hat = model.forward(val)\n",
        "        preds.append(y_hat.argmax().item())"
      ],
      "metadata": {
        "id": "X5i9Tc_jcXqT"
      },
      "execution_count": 12,
      "outputs": []
    },
    {
      "cell_type": "code",
      "source": [
        "inputs_new = torch.tensor(xtest, dtype=torch.float32)"
      ],
      "metadata": {
        "id": "t-9PPeh1cXnb"
      },
      "execution_count": null,
      "outputs": []
    },
    {
      "cell_type": "code",
      "source": [
        "# Make predictions\n",
        "with torch.no_grad():\n",
        "    predictions = model(inputs_new)"
      ],
      "metadata": {
        "id": "74mquShLfPBF"
      },
      "execution_count": 14,
      "outputs": []
    },
    {
      "cell_type": "code",
      "execution_count": 15,
      "metadata": {
        "id": "CXWxs-P4bZZg"
      },
      "outputs": [],
      "source": [
        "# Convert predictions tensor to numpy array\n",
        "predictions = predictions.numpy()\n"
      ]
    },
    {
      "cell_type": "code",
      "source": [
        "# Print the predictions\n",
        "print(predictions)"
      ],
      "metadata": {
        "id": "ZuhUxwjlfavR"
      },
      "execution_count": null,
      "outputs": []
    },
    {
      "cell_type": "code",
      "source": [
        "from sklearn.metrics import mean_squared_error\n",
        "\n",
        "# Calculate Mean Squared Error (MSE)\n",
        "mse = mean_squared_error(ytest, predictions)\n",
        "print(\"Mean Squared Error:\", mse)\n"
      ],
      "metadata": {
        "id": "I92PbQyEfhb3"
      },
      "execution_count": null,
      "outputs": []
    },
    {
      "cell_type": "code",
      "source": [],
      "metadata": {
        "id": "YHbSErJ3IDnZ"
      },
      "execution_count": null,
      "outputs": []
    }
  ]
}